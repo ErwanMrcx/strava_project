{
 "cells": [
  {
   "metadata": {
    "ExecuteTime": {
     "end_time": "2024-04-24T15:08:19.658984Z",
     "start_time": "2024-04-24T15:08:19.616007Z"
    }
   },
   "cell_type": "code",
   "source": [
    "import requests\n",
    "import urllib3\n",
    "import pandas as pd\n",
    "\n",
    "urllib3.disable_warnings()"
   ],
   "id": "c3bf888128b69568",
   "outputs": [],
   "execution_count": 1
  },
  {
   "cell_type": "code",
   "id": "a2d23bba-641b-4ca2-854b-4402b9d90bcb",
   "metadata": {
    "ExecuteTime": {
     "end_time": "2024-04-24T15:08:20.081976Z",
     "start_time": "2024-04-24T15:08:19.661120Z"
    }
   },
   "source": [
    "# API strava's URL\n",
    "auth_url = 'https://www.strava.com/oauth/token'\n",
    "\n",
    "# connection to the API of Strava\n",
    "def connect_strava_api(url):\n",
    "    \n",
    "    # auth params\n",
    "    payload = {\n",
    "        'client_id':'123439',\n",
    "        'client_secret':'ca30493ae0006807b0b09e74abdab5bc687c998e',\n",
    "        'refresh_token':'28c2b6e6864b179b20bc9f4f3fa8dbe1150df56f',\n",
    "        'grant_type':'refresh_token',\n",
    "        'f':'json'\n",
    "    }\n",
    "    \n",
    "    print('Requesting the token...\\n')\n",
    "    \n",
    "    # request the new access token through refresh_token\n",
    "    res = requests.post(auth_url, data=payload, verify=False)\n",
    "    access_token = res.json()['access_token']\n",
    "    \n",
    "    print('Access token: {}\\n'.format(access_token))\n",
    "    \n",
    "    return access_token\n",
    "access_token = connect_strava_api(auth_url)"
   ],
   "outputs": [
    {
     "name": "stdout",
     "output_type": "stream",
     "text": [
      "Requesting the token...\n",
      "\n",
      "Access token: c8be00ea644c533557826b5b100b04ffbd82db88\n",
      "\n"
     ]
    }
   ],
   "execution_count": 2
  },
  {
   "cell_type": "code",
   "id": "035ba699-f3b6-40fc-ab08-d67fdbb129d0",
   "metadata": {
    "ExecuteTime": {
     "end_time": "2024-04-24T15:08:27.219513Z",
     "start_time": "2024-04-24T15:08:20.084880Z"
    }
   },
   "source": [
    "# url to request data of activites logged athelete \n",
    "activities_url = 'https://www.strava.com/api/v3/athlete/activities'\n",
    "\n",
    "def get_strava_activities(data_url):\n",
    "        \n",
    "    request_page_num = 1\n",
    "    all_activities = []\n",
    "    \n",
    "    # get all pages to be sure to have all activities\n",
    "    while True:\n",
    "        headers = {'Authorization': 'Bearer ' + access_token}\n",
    "        params = {'per_page': 200, 'page': request_page_num}\n",
    "\n",
    "        my_dataset = requests.get(data_url,headers = headers, params = params).json()\n",
    "        \n",
    "        # if activities == 0 in the page, then break the loop \n",
    "        if len(my_dataset) == 0:\n",
    "            print('Activities are fully added!')\n",
    "            break\n",
    "            \n",
    "        # add each activity to the list\n",
    "        if all_activities:\n",
    "            all_activities.extend(my_dataset)\n",
    "        else:\n",
    "            all_activities = my_dataset\n",
    "        \n",
    "        request_page_num += 1\n",
    "    \n",
    "    print('Number of activities registered: {}\\n'.format(len(all_activities)))\n",
    "    \n",
    "    # sort activities and transform to dataframe\n",
    "    sorted_activities = all_activities[::-1]\n",
    "    df = pd.DataFrame(sorted_activities)\n",
    "    \n",
    "    display(df)\n",
    "    return df\n",
    "\n",
    "df_activities = get_strava_activities(activities_url)"
   ],
   "outputs": [
    {
     "name": "stdout",
     "output_type": "stream",
     "text": [
      "Activities are fully added!\n",
      "Number of activities registered: 360\n",
      "\n"
     ]
    },
    {
     "data": {
      "text/plain": [
       "     resource_state                                athlete             name  \\\n",
       "0                 2  {'id': 36334506, 'resource_state': 1}        Night Run   \n",
       "1                 2  {'id': 36334506, 'resource_state': 1}      Evening Run   \n",
       "2                 2  {'id': 36334506, 'resource_state': 1}        Lunch Run   \n",
       "3                 2  {'id': 36334506, 'resource_state': 1}      Evening Run   \n",
       "4                 2  {'id': 36334506, 'resource_state': 1}        Lunch Run   \n",
       "..              ...                                    ...              ...   \n",
       "355               2  {'id': 36334506, 'resource_state': 1}  Evening Workout   \n",
       "356               2  {'id': 36334506, 'resource_state': 1}    Afternoon Run   \n",
       "357               2  {'id': 36334506, 'resource_state': 1}    Afternoon Run   \n",
       "358               2  {'id': 36334506, 'resource_state': 1}      Evening Run   \n",
       "359               2  {'id': 36334506, 'resource_state': 1}  Evening Workout   \n",
       "\n",
       "     distance  moving_time  elapsed_time  total_elevation_gain     type  \\\n",
       "0      5851.9         2072        291557                  15.6      Run   \n",
       "1      6501.4         2294          2434                  15.5      Run   \n",
       "2      6627.0         2380          2396                  15.9      Run   \n",
       "3      5000.3         1904          2025                  12.8      Run   \n",
       "4      7741.6         2422          2433                  21.2      Run   \n",
       "..        ...          ...           ...                   ...      ...   \n",
       "355       0.0         1684          1684                   0.0  Workout   \n",
       "356   15119.0         5526          6333                 262.7      Run   \n",
       "357   13585.8         5587          5684                 182.7      Run   \n",
       "358   10860.0         3003          3049                   0.0      Run   \n",
       "359       0.0         1710          1710                   0.0  Workout   \n",
       "\n",
       "    sport_type  workout_type  ...  upload_id_str               external_id  \\\n",
       "0          Run           NaN  ...     2140930086    garmin_push_3142419849   \n",
       "1          Run           NaN  ...     2140930087    garmin_push_3174660568   \n",
       "2          Run           NaN  ...     2140930088    garmin_push_3176056246   \n",
       "3          Run           NaN  ...     2140930083    garmin_push_3178619560   \n",
       "4          Run           NaN  ...     2140930084    garmin_push_3188644460   \n",
       "..         ...           ...  ...            ...                       ...   \n",
       "355    Workout           NaN  ...    11977268153  garmin_ping_334435560655   \n",
       "356        Run           NaN  ...    11988129214  garmin_ping_334765825218   \n",
       "357        Run           0.0  ...    11995733682  garmin_ping_334980907639   \n",
       "358        Run           NaN  ...    12019564032  garmin_ping_335685727546   \n",
       "359    Workout           NaN  ...    12019750470  garmin_ping_335691345813   \n",
       "\n",
       "    from_accepted_tag pr_count  total_photo_count has_kudoed suffer_score  \\\n",
       "0               False        0                  0      False         68.0   \n",
       "1               False        0                  0      False         45.0   \n",
       "2               False        1                  0      False         83.0   \n",
       "3               False        4                  0      False         57.0   \n",
       "4               False        7                  0      False         75.0   \n",
       "..                ...      ...                ...        ...          ...   \n",
       "355             False        0                  0      False          3.0   \n",
       "356             False        1                  0      False         63.0   \n",
       "357             False        0                  0      False         28.0   \n",
       "358             False        0                  0      False         15.0   \n",
       "359             False        0                  0      False          4.0   \n",
       "\n",
       "    average_watts  kilojoules  device_watts  \n",
       "0             NaN         NaN           NaN  \n",
       "1             NaN         NaN           NaN  \n",
       "2             NaN         NaN           NaN  \n",
       "3             NaN         NaN           NaN  \n",
       "4             NaN         NaN           NaN  \n",
       "..            ...         ...           ...  \n",
       "355           NaN         NaN           NaN  \n",
       "356           NaN         NaN           NaN  \n",
       "357           NaN         NaN           NaN  \n",
       "358           NaN         NaN           NaN  \n",
       "359           NaN         NaN           NaN  \n",
       "\n",
       "[360 rows x 54 columns]"
      ],
      "text/html": [
       "<div>\n",
       "<style scoped>\n",
       "    .dataframe tbody tr th:only-of-type {\n",
       "        vertical-align: middle;\n",
       "    }\n",
       "\n",
       "    .dataframe tbody tr th {\n",
       "        vertical-align: top;\n",
       "    }\n",
       "\n",
       "    .dataframe thead th {\n",
       "        text-align: right;\n",
       "    }\n",
       "</style>\n",
       "<table border=\"1\" class=\"dataframe\">\n",
       "  <thead>\n",
       "    <tr style=\"text-align: right;\">\n",
       "      <th></th>\n",
       "      <th>resource_state</th>\n",
       "      <th>athlete</th>\n",
       "      <th>name</th>\n",
       "      <th>distance</th>\n",
       "      <th>moving_time</th>\n",
       "      <th>elapsed_time</th>\n",
       "      <th>total_elevation_gain</th>\n",
       "      <th>type</th>\n",
       "      <th>sport_type</th>\n",
       "      <th>workout_type</th>\n",
       "      <th>...</th>\n",
       "      <th>upload_id_str</th>\n",
       "      <th>external_id</th>\n",
       "      <th>from_accepted_tag</th>\n",
       "      <th>pr_count</th>\n",
       "      <th>total_photo_count</th>\n",
       "      <th>has_kudoed</th>\n",
       "      <th>suffer_score</th>\n",
       "      <th>average_watts</th>\n",
       "      <th>kilojoules</th>\n",
       "      <th>device_watts</th>\n",
       "    </tr>\n",
       "  </thead>\n",
       "  <tbody>\n",
       "    <tr>\n",
       "      <th>0</th>\n",
       "      <td>2</td>\n",
       "      <td>{'id': 36334506, 'resource_state': 1}</td>\n",
       "      <td>Night Run</td>\n",
       "      <td>5851.9</td>\n",
       "      <td>2072</td>\n",
       "      <td>291557</td>\n",
       "      <td>15.6</td>\n",
       "      <td>Run</td>\n",
       "      <td>Run</td>\n",
       "      <td>NaN</td>\n",
       "      <td>...</td>\n",
       "      <td>2140930086</td>\n",
       "      <td>garmin_push_3142419849</td>\n",
       "      <td>False</td>\n",
       "      <td>0</td>\n",
       "      <td>0</td>\n",
       "      <td>False</td>\n",
       "      <td>68.0</td>\n",
       "      <td>NaN</td>\n",
       "      <td>NaN</td>\n",
       "      <td>NaN</td>\n",
       "    </tr>\n",
       "    <tr>\n",
       "      <th>1</th>\n",
       "      <td>2</td>\n",
       "      <td>{'id': 36334506, 'resource_state': 1}</td>\n",
       "      <td>Evening Run</td>\n",
       "      <td>6501.4</td>\n",
       "      <td>2294</td>\n",
       "      <td>2434</td>\n",
       "      <td>15.5</td>\n",
       "      <td>Run</td>\n",
       "      <td>Run</td>\n",
       "      <td>NaN</td>\n",
       "      <td>...</td>\n",
       "      <td>2140930087</td>\n",
       "      <td>garmin_push_3174660568</td>\n",
       "      <td>False</td>\n",
       "      <td>0</td>\n",
       "      <td>0</td>\n",
       "      <td>False</td>\n",
       "      <td>45.0</td>\n",
       "      <td>NaN</td>\n",
       "      <td>NaN</td>\n",
       "      <td>NaN</td>\n",
       "    </tr>\n",
       "    <tr>\n",
       "      <th>2</th>\n",
       "      <td>2</td>\n",
       "      <td>{'id': 36334506, 'resource_state': 1}</td>\n",
       "      <td>Lunch Run</td>\n",
       "      <td>6627.0</td>\n",
       "      <td>2380</td>\n",
       "      <td>2396</td>\n",
       "      <td>15.9</td>\n",
       "      <td>Run</td>\n",
       "      <td>Run</td>\n",
       "      <td>NaN</td>\n",
       "      <td>...</td>\n",
       "      <td>2140930088</td>\n",
       "      <td>garmin_push_3176056246</td>\n",
       "      <td>False</td>\n",
       "      <td>1</td>\n",
       "      <td>0</td>\n",
       "      <td>False</td>\n",
       "      <td>83.0</td>\n",
       "      <td>NaN</td>\n",
       "      <td>NaN</td>\n",
       "      <td>NaN</td>\n",
       "    </tr>\n",
       "    <tr>\n",
       "      <th>3</th>\n",
       "      <td>2</td>\n",
       "      <td>{'id': 36334506, 'resource_state': 1}</td>\n",
       "      <td>Evening Run</td>\n",
       "      <td>5000.3</td>\n",
       "      <td>1904</td>\n",
       "      <td>2025</td>\n",
       "      <td>12.8</td>\n",
       "      <td>Run</td>\n",
       "      <td>Run</td>\n",
       "      <td>NaN</td>\n",
       "      <td>...</td>\n",
       "      <td>2140930083</td>\n",
       "      <td>garmin_push_3178619560</td>\n",
       "      <td>False</td>\n",
       "      <td>4</td>\n",
       "      <td>0</td>\n",
       "      <td>False</td>\n",
       "      <td>57.0</td>\n",
       "      <td>NaN</td>\n",
       "      <td>NaN</td>\n",
       "      <td>NaN</td>\n",
       "    </tr>\n",
       "    <tr>\n",
       "      <th>4</th>\n",
       "      <td>2</td>\n",
       "      <td>{'id': 36334506, 'resource_state': 1}</td>\n",
       "      <td>Lunch Run</td>\n",
       "      <td>7741.6</td>\n",
       "      <td>2422</td>\n",
       "      <td>2433</td>\n",
       "      <td>21.2</td>\n",
       "      <td>Run</td>\n",
       "      <td>Run</td>\n",
       "      <td>NaN</td>\n",
       "      <td>...</td>\n",
       "      <td>2140930084</td>\n",
       "      <td>garmin_push_3188644460</td>\n",
       "      <td>False</td>\n",
       "      <td>7</td>\n",
       "      <td>0</td>\n",
       "      <td>False</td>\n",
       "      <td>75.0</td>\n",
       "      <td>NaN</td>\n",
       "      <td>NaN</td>\n",
       "      <td>NaN</td>\n",
       "    </tr>\n",
       "    <tr>\n",
       "      <th>...</th>\n",
       "      <td>...</td>\n",
       "      <td>...</td>\n",
       "      <td>...</td>\n",
       "      <td>...</td>\n",
       "      <td>...</td>\n",
       "      <td>...</td>\n",
       "      <td>...</td>\n",
       "      <td>...</td>\n",
       "      <td>...</td>\n",
       "      <td>...</td>\n",
       "      <td>...</td>\n",
       "      <td>...</td>\n",
       "      <td>...</td>\n",
       "      <td>...</td>\n",
       "      <td>...</td>\n",
       "      <td>...</td>\n",
       "      <td>...</td>\n",
       "      <td>...</td>\n",
       "      <td>...</td>\n",
       "      <td>...</td>\n",
       "      <td>...</td>\n",
       "    </tr>\n",
       "    <tr>\n",
       "      <th>355</th>\n",
       "      <td>2</td>\n",
       "      <td>{'id': 36334506, 'resource_state': 1}</td>\n",
       "      <td>Evening Workout</td>\n",
       "      <td>0.0</td>\n",
       "      <td>1684</td>\n",
       "      <td>1684</td>\n",
       "      <td>0.0</td>\n",
       "      <td>Workout</td>\n",
       "      <td>Workout</td>\n",
       "      <td>NaN</td>\n",
       "      <td>...</td>\n",
       "      <td>11977268153</td>\n",
       "      <td>garmin_ping_334435560655</td>\n",
       "      <td>False</td>\n",
       "      <td>0</td>\n",
       "      <td>0</td>\n",
       "      <td>False</td>\n",
       "      <td>3.0</td>\n",
       "      <td>NaN</td>\n",
       "      <td>NaN</td>\n",
       "      <td>NaN</td>\n",
       "    </tr>\n",
       "    <tr>\n",
       "      <th>356</th>\n",
       "      <td>2</td>\n",
       "      <td>{'id': 36334506, 'resource_state': 1}</td>\n",
       "      <td>Afternoon Run</td>\n",
       "      <td>15119.0</td>\n",
       "      <td>5526</td>\n",
       "      <td>6333</td>\n",
       "      <td>262.7</td>\n",
       "      <td>Run</td>\n",
       "      <td>Run</td>\n",
       "      <td>NaN</td>\n",
       "      <td>...</td>\n",
       "      <td>11988129214</td>\n",
       "      <td>garmin_ping_334765825218</td>\n",
       "      <td>False</td>\n",
       "      <td>1</td>\n",
       "      <td>0</td>\n",
       "      <td>False</td>\n",
       "      <td>63.0</td>\n",
       "      <td>NaN</td>\n",
       "      <td>NaN</td>\n",
       "      <td>NaN</td>\n",
       "    </tr>\n",
       "    <tr>\n",
       "      <th>357</th>\n",
       "      <td>2</td>\n",
       "      <td>{'id': 36334506, 'resource_state': 1}</td>\n",
       "      <td>Afternoon Run</td>\n",
       "      <td>13585.8</td>\n",
       "      <td>5587</td>\n",
       "      <td>5684</td>\n",
       "      <td>182.7</td>\n",
       "      <td>Run</td>\n",
       "      <td>Run</td>\n",
       "      <td>0.0</td>\n",
       "      <td>...</td>\n",
       "      <td>11995733682</td>\n",
       "      <td>garmin_ping_334980907639</td>\n",
       "      <td>False</td>\n",
       "      <td>0</td>\n",
       "      <td>0</td>\n",
       "      <td>False</td>\n",
       "      <td>28.0</td>\n",
       "      <td>NaN</td>\n",
       "      <td>NaN</td>\n",
       "      <td>NaN</td>\n",
       "    </tr>\n",
       "    <tr>\n",
       "      <th>358</th>\n",
       "      <td>2</td>\n",
       "      <td>{'id': 36334506, 'resource_state': 1}</td>\n",
       "      <td>Evening Run</td>\n",
       "      <td>10860.0</td>\n",
       "      <td>3003</td>\n",
       "      <td>3049</td>\n",
       "      <td>0.0</td>\n",
       "      <td>Run</td>\n",
       "      <td>Run</td>\n",
       "      <td>NaN</td>\n",
       "      <td>...</td>\n",
       "      <td>12019564032</td>\n",
       "      <td>garmin_ping_335685727546</td>\n",
       "      <td>False</td>\n",
       "      <td>0</td>\n",
       "      <td>0</td>\n",
       "      <td>False</td>\n",
       "      <td>15.0</td>\n",
       "      <td>NaN</td>\n",
       "      <td>NaN</td>\n",
       "      <td>NaN</td>\n",
       "    </tr>\n",
       "    <tr>\n",
       "      <th>359</th>\n",
       "      <td>2</td>\n",
       "      <td>{'id': 36334506, 'resource_state': 1}</td>\n",
       "      <td>Evening Workout</td>\n",
       "      <td>0.0</td>\n",
       "      <td>1710</td>\n",
       "      <td>1710</td>\n",
       "      <td>0.0</td>\n",
       "      <td>Workout</td>\n",
       "      <td>Workout</td>\n",
       "      <td>NaN</td>\n",
       "      <td>...</td>\n",
       "      <td>12019750470</td>\n",
       "      <td>garmin_ping_335691345813</td>\n",
       "      <td>False</td>\n",
       "      <td>0</td>\n",
       "      <td>0</td>\n",
       "      <td>False</td>\n",
       "      <td>4.0</td>\n",
       "      <td>NaN</td>\n",
       "      <td>NaN</td>\n",
       "      <td>NaN</td>\n",
       "    </tr>\n",
       "  </tbody>\n",
       "</table>\n",
       "<p>360 rows × 54 columns</p>\n",
       "</div>"
      ]
     },
     "metadata": {},
     "output_type": "display_data"
    }
   ],
   "execution_count": 3
  },
  {
   "metadata": {
    "ExecuteTime": {
     "end_time": "2024-04-24T15:08:27.229700Z",
     "start_time": "2024-04-24T15:08:27.220966Z"
    }
   },
   "cell_type": "code",
   "source": [
    "# filter to run activities\n",
    "df_activities = df_activities[df_activities['type'] == 'Run']\n",
    "print('Number of run activity: {}'. format(len(df_activities)))\n",
    "\n",
    "# get list of ids for future requests\n",
    "lst_id_activities = [activity.get('id') for activity in df_activities.to_dict(orient='records')]\n",
    "print('Number of id activities: {}'.format(len(lst_id_activities)))"
   ],
   "id": "7267cf182228f6b2",
   "outputs": [
    {
     "name": "stdout",
     "output_type": "stream",
     "text": [
      "Number of run activity: 206\n",
      "Number of id activities: 206\n"
     ]
    }
   ],
   "execution_count": 4
  },
  {
   "metadata": {
    "ExecuteTime": {
     "end_time": "2024-04-24T15:08:27.241406Z",
     "start_time": "2024-04-24T15:08:27.233435Z"
    }
   },
   "cell_type": "code",
   "source": [
    "import time\n",
    "import sys\n",
    "\n",
    "# build the request link from list of ids\n",
    "lst_link_zones_activities = ['https://www.strava.com/api/v3/activities/' + str(ids) + '/zones' for ids in lst_id_activities]\n",
    "print('Numbers of links to treat: {}'.format(len(lst_link_zones_activities)))"
   ],
   "id": "615c86c310985929",
   "outputs": [
    {
     "name": "stdout",
     "output_type": "stream",
     "text": [
      "Numbers of links to treat: 206\n"
     ]
    }
   ],
   "execution_count": 5
  },
  {
   "metadata": {
    "jupyter": {
     "is_executing": true
    },
    "ExecuteTime": {
     "start_time": "2024-04-24T15:08:27.242322Z"
    }
   },
   "cell_type": "code",
   "source": [
    "# get data of each activity\n",
    "def get_strava_zones_activities(data_url, ids):\n",
    "    headers = {'Authorization': 'Bearer ' + access_token}\n",
    "    my_dataset = requests.get(data_url, headers=headers).json()\n",
    "    \n",
    "    df = pd.DataFrame(my_dataset)\n",
    "    \n",
    "    # Add a new column for IDs\n",
    "    df.insert(0, 'id', ids)\n",
    "    \n",
    "    return df\n",
    "\n",
    "all_zones_activities = []\n",
    "num_activities = 0\n",
    "\n",
    "# break the loop each 90 activities b/o api constraint\n",
    "for link, ids in zip(lst_link_zones_activities, lst_id_activities):\n",
    "    if num_activities == 90:\n",
    "        print('activities are added, waiting 16 min to continue\\n')      \n",
    "        num_activities = 0\n",
    "        time.sleep(960)\n",
    "    else:\n",
    "        # append data activities to a new list\n",
    "        zone_activities_df = get_strava_zones_activities(link, ids)\n",
    "        all_zones_activities.append(zone_activities_df)\n",
    "        \n",
    "        num_activities += 1\n",
    "        print('Number of iteration {0}\\r'.format(num_activities), end='', flush=True)\n",
    "\n",
    "# concat each list \n",
    "final_df = pd.concat(all_zones_activities, ignore_index=True)\n",
    "print('Length of the final df: {}'.format(len(final_df)))"
   ],
   "id": "1de078e92507bba8",
   "outputs": [
    {
     "name": "stdout",
     "output_type": "stream",
     "text": [
      "Number of iteration 1\r\n",
      "Number of iteration 2\r\n",
      "Number of iteration 3\r\n",
      "Number of iteration 4\r\n",
      "Number of iteration 5\r\n",
      "Number of iteration 6\r\n",
      "Number of iteration 7\r\n",
      "Number of iteration 8\r\n",
      "Number of iteration 9\r\n",
      "Number of iteration 10\r\n",
      "Number of iteration 11\r\n",
      "Number of iteration 12\r\n",
      "Number of iteration 13\r\n",
      "Number of iteration 14\r\n",
      "Number of iteration 15\r\n",
      "Number of iteration 16\r\n",
      "Number of iteration 17\r\n",
      "Number of iteration 18\r\n",
      "Number of iteration 19\r\n",
      "Number of iteration 20\r\n",
      "Number of iteration 21\r\n",
      "Number of iteration 22\r\n",
      "Number of iteration 23\r\n",
      "Number of iteration 24\r\n",
      "Number of iteration 25\r\n",
      "Number of iteration 26\r\n",
      "Number of iteration 27\r\n",
      "Number of iteration 28\r\n",
      "Number of iteration 29\r\n",
      "Number of iteration 30\r\n",
      "Number of iteration 31\r\n",
      "Number of iteration 32\r\n",
      "Number of iteration 33\r\n",
      "Number of iteration 34\r\n",
      "Number of iteration 35\r\n",
      "Number of iteration 36\r\n",
      "Number of iteration 37\r\n",
      "Number of iteration 38\r\n",
      "Number of iteration 39\r\n",
      "Number of iteration 40\r\n",
      "Number of iteration 41\r\n",
      "Number of iteration 42\r\n",
      "Number of iteration 43\r\n",
      "Number of iteration 44\r\n",
      "Number of iteration 45\r\n",
      "Number of iteration 46\r\n",
      "Number of iteration 47\r\n",
      "Number of iteration 48\r\n",
      "Number of iteration 49\r\n",
      "Number of iteration 50\r\n",
      "Number of iteration 51\r\n",
      "Number of iteration 52\r\n",
      "Number of iteration 53\r\n",
      "Number of iteration 54\r\n",
      "Number of iteration 55\r\n",
      "Number of iteration 56\r\n",
      "Number of iteration 57\r\n",
      "Number of iteration 58\r\n",
      "Number of iteration 59\r\n",
      "Number of iteration 60\r\n",
      "Number of iteration 61\r\n",
      "Number of iteration 62\r\n",
      "Number of iteration 63\r\n",
      "Number of iteration 64\r\n",
      "Number of iteration 65\r\n",
      "Number of iteration 66\r\n",
      "Number of iteration 67\r\n",
      "Number of iteration 68\r\n",
      "Number of iteration 69\r\n",
      "Number of iteration 70\r\n",
      "Number of iteration 71\r\n",
      "Number of iteration 72\r\n",
      "Number of iteration 73\r\n",
      "Number of iteration 74\r\n",
      "Number of iteration 75\r\n",
      "Number of iteration 76\r\n",
      "Number of iteration 77\r\n",
      "Number of iteration 78\r\n",
      "Number of iteration 79\r\n",
      "Number of iteration 80\r\n",
      "Number of iteration 81\r\n",
      "Number of iteration 82\r\n",
      "Number of iteration 83\r\n",
      "Number of iteration 84\r\n",
      "Number of iteration 85\r\n",
      "Number of iteration 86\r\n",
      "Number of iteration 87\r\n",
      "Number of iteration 88\r\n",
      "Number of iteration 89\r\n",
      "Number of iteration 90\r\n",
      "activities are added, waiting 16 min to continue\n",
      "\n"
     ]
    }
   ],
   "execution_count": null
  },
  {
   "metadata": {
    "jupyter": {
     "is_executing": true
    }
   },
   "cell_type": "code",
   "source": [
    "# filter on actionable data\n",
    "final_df = final_df[final_df['type'] == 'heartrate']\n",
    "print('Length of the actionable df: {}'.format(len(final_df)))"
   ],
   "id": "507fb79751ded2a9",
   "outputs": [],
   "execution_count": null
  },
  {
   "metadata": {
    "jupyter": {
     "is_executing": true
    }
   },
   "cell_type": "code",
   "source": "final_df.iloc[1]",
   "id": "391780de61bf000",
   "outputs": [],
   "execution_count": null
  },
  {
   "metadata": {
    "jupyter": {
     "is_executing": true
    }
   },
   "cell_type": "code",
   "source": [
    "lst_zones = []\n",
    "\n",
    "# get zones of intensity from final_df\n",
    "for x in range(len(final_df)):\n",
    "     zones = final_df.iloc[x].iloc[2]\n",
    "     lst_zones.append(zones)\n",
    "\n",
    "# rename columns\n",
    "df_zones = pd.DataFrame(lst_zones)\n",
    "df_zones.rename(columns={0: 'Zone 1',1: 'Zone 2',2: 'Zone 3',3: 'Zone 4',4: 'Zone 5'}, inplace=True)\n",
    "\n",
    "# get only time by zones for each zones\n",
    "for x in range(len(df_zones)):\n",
    "    for j in range(1, len(df_zones.columns) + 1):\n",
    "        df_zones.loc[x, 'Zone ' + str(j)] = df_zones.loc[x, 'Zone ' + str(j)]['time']\n",
    "\n",
    "# transform id list in df\n",
    "df_id = pd.DataFrame({'id':final_df['id']}).reset_index()\n",
    "\n",
    "# concat id values with df_zones\n",
    "result = pd.concat([df_id,df_zones], axis=1)\n",
    "result.drop(columns=['index'], inplace=True)\n",
    "result"
   ],
   "id": "76f4ebeca3bca4ad",
   "outputs": [],
   "execution_count": null
  },
  {
   "metadata": {
    "jupyter": {
     "is_executing": true
    }
   },
   "cell_type": "code",
   "source": [
    "# merge zones_df with final_df\n",
    "full_df = pd.merge(result, df_activities, on='id', how='left')\n",
    "full_df"
   ],
   "id": "78a110e370c0ca0",
   "outputs": [],
   "execution_count": null
  },
  {
   "metadata": {
    "jupyter": {
     "is_executing": true
    }
   },
   "cell_type": "code",
   "source": [
    "# count na values\n",
    "na_values = full_df.isna().sum()\n",
    "na_values"
   ],
   "id": "27d89b13d644cc82",
   "outputs": [],
   "execution_count": null
  },
  {
   "metadata": {
    "jupyter": {
     "is_executing": true
    }
   },
   "cell_type": "code",
   "source": [
    "# count null values\n",
    "null_values = full_df.isnull().sum()\n",
    "null_values"
   ],
   "id": "5df9ddc08ac18bb7",
   "outputs": [],
   "execution_count": null
  },
  {
   "cell_type": "code",
   "id": "77e55bee-7732-43e5-aa6b-996b0070a554",
   "metadata": {
    "scrolled": true,
    "jupyter": {
     "is_executing": true
    }
   },
   "source": "full_df.describe()",
   "outputs": [],
   "execution_count": null
  },
  {
   "cell_type": "code",
   "id": "45c108a5-421e-4755-90e0-05bfaf16a019",
   "metadata": {
    "jupyter": {
     "is_executing": true
    }
   },
   "source": [
    "import folium\n",
    "import polyline\n",
    "from gpxplotter import read_gpx_file, create_folium_map, add_segment_to_map\n",
    "from folium import plugins\n",
    "\n",
    "# create strava map\n",
    "map_strava = folium.Map(location=[16.033612195704787,-61.72271466476438], zoom_start=11)\n",
    "\n",
    "# open and read gpx file\n",
    "gpx_file = read_gpx_file('TDC 2024 - Grand parcours.gpx')\n",
    "df_gpx = pd.DataFrame(gpx_file)\n",
    "\n",
    "# get latitude and longitude from df\n",
    "latlon_gpx = df_gpx['segments'][0][0]['latlon']\n",
    "list_latlon = [[lat, lon] for lat, lon in latlon_gpx]\n",
    "\n",
    "# add coordinates to the map\n",
    "folium.plugins.PolyLineOffset(locations=list_latlon, color='#0D19FF').add_to(map_strava)\n",
    "\n",
    "# get Polyline from df and plot the route on a map \n",
    "def show_strava_map(df):\n",
    "        \n",
    "    polylines_activities = []\n",
    "    \n",
    "    # get all polylines from df\n",
    "    for num in range(len(df)):\n",
    "        df_polyline = df['map'].iloc[num]\n",
    "        polylines_activities.append(df_polyline['summary_polyline'])\n",
    "\n",
    "    clean_polyline = [ele for ele in polylines_activities if ele != '']\n",
    "    \n",
    "    activities_coords = []\n",
    "    \n",
    "    # decode each polyline to get coordinates\n",
    "    for num in range(len(clean_polyline)):\n",
    "        coord = polyline.decode(clean_polyline[num], 5)\n",
    "        activities_coords.append(coord)\n",
    "    \n",
    "    # plot coords on a map\n",
    "    for num in range(len(activities_coords)):\n",
    "        folium.PolyLine(\n",
    "            locations=activities_coords[num],\n",
    "            color=\"#FF0000\",\n",
    "            weight=3).add_to(map_strava)\n",
    "    \n",
    "    return map_strava\n",
    "\n",
    "show_strava_map(full_df)\n"
   ],
   "outputs": [],
   "execution_count": null
  },
  {
   "cell_type": "code",
   "id": "d971e53c-67da-496b-bdf6-842da6988b38",
   "metadata": {
    "jupyter": {
     "is_executing": true
    }
   },
   "source": [
    "full_df['sport_type'] = full_df['sport_type'].replace('TrailRun', 'Run')\n",
    "sport_counts = full_df['sport_type'].value_counts()\n",
    "\n",
    "sport_counts"
   ],
   "outputs": [],
   "execution_count": null
  },
  {
   "cell_type": "code",
   "id": "9ff6bf53-4a39-4eb4-afe0-99a6623806ac",
   "metadata": {
    "jupyter": {
     "is_executing": true
    }
   },
   "source": [
    "#groupby_distance = dataframe_group_run.pivot_table(index=['rework_distance','start_date'], values='average_heartrate')\n",
    "#groupby_distance.sort_values(by='average_heartrate', ascending=True)\n",
    "\n",
    "#with pd.option_context('display.max_rows', None,\n",
    " #                      'display.max_columns', None,\n",
    "  #                     'display.precision', 3):\n",
    "   # display(groupby_distance)"
   ],
   "outputs": [],
   "execution_count": null
  },
  {
   "cell_type": "code",
   "id": "6cb0b669-e1b7-4527-ae2c-27b91c6e8bae",
   "metadata": {
    "jupyter": {
     "is_executing": true
    }
   },
   "source": [
    "col_to_keep = ['id', 'Zone 1','Zone 2','Zone 3','Zone 4','Zone 5', 'distance', 'moving_time', 'total_elevation_gain', 'sport_type', 'start_date', 'average_speed', 'average_heartrate', 'suffer_score']\n",
    "\n",
    "df_analyse_1 = full_df.copy()\n",
    "\n",
    "df_analyse_1 = df_analyse_1[col_to_keep]\n",
    "df_analyse_1['activity_num'] =  ['Run' + ' ' + str(index) for index in df_analyse_1.index]\n",
    "df_analyse_1 ['distance'] = df_analyse_1['distance'].round(1)\n",
    "df_analyse_1['moving_time'] = (df_analyse_1['moving_time'] / 60)\n",
    "df_analyse_1['distance + d+'] = df_analyse_1['distance'] + (df_analyse_1['total_elevation_gain'] * 10)\n",
    "df_analyse_1['start_date'] = pd.to_datetime(df_analyse_1['start_date'])\n",
    "df_analyse_1['start_date'] = df_analyse_1['start_date'].dt.strftime('%d/%m/%Y')\n",
    "df_analyse_1['standardize_score'] = df_analyse_1['suffer_score'] / df_analyse_1['distance + d+'] * 100\n",
    "\n",
    "df_analyse_1"
   ],
   "outputs": [],
   "execution_count": null
  },
  {
   "cell_type": "code",
   "id": "902a6fe7-9628-439b-bf66-5b289a5e38cb",
   "metadata": {
    "jupyter": {
     "is_executing": true
    }
   },
   "source": [
    "import matplotlib.pyplot as plt\n",
    "import seaborn as sns\n",
    "\n",
    "plt.scatter(df_analyse_1['distance'], df_analyse_1['average_heartrate'], c=df_analyse_1['suffer_score'], s=df_analyse_1['total_elevation_gain']*2)\n",
    "plt.show()"
   ],
   "outputs": [],
   "execution_count": null
  },
  {
   "metadata": {
    "jupyter": {
     "is_executing": true
    }
   },
   "cell_type": "code",
   "source": [
    "df_low_intensity = df_analyse_1[df_analyse_1['Zone 2'] / (df_analyse_1['Zone 1'] + df_analyse_1['Zone 2'] + df_analyse_1['Zone 3'] + df_analyse_1['Zone 4'] + df_analyse_1['Zone 5']) > 0.80]\n",
    "\n",
    "df_low_intensity = df_low_intensity.copy()\n",
    "df_low_intensity['ratio zone 2'] = (df_analyse_1['Zone 1'] + df_analyse_1['Zone 2']) / (df_analyse_1['Zone 1'] + df_analyse_1['Zone 2'] + df_analyse_1['Zone 3'] + df_analyse_1['Zone 4'] + df_analyse_1['Zone 5'])\n",
    "df_low_intensity"
   ],
   "id": "670a486126b2a2ed",
   "outputs": [],
   "execution_count": null
  },
  {
   "metadata": {
    "jupyter": {
     "is_executing": true
    }
   },
   "cell_type": "code",
   "source": [
    "df_low_intensity['Month_YY'] = pd.to_datetime(df_low_intensity['start_date']).dt.strftime('%Y%m')\n",
    "df_low_intensity\n"
   ],
   "id": "6661d411bb3ed3a0",
   "outputs": [],
   "execution_count": null
  },
  {
   "metadata": {
    "jupyter": {
     "is_executing": true
    }
   },
   "cell_type": "code",
   "source": [
    "df_intensity = df_analyse_1.copy()\n",
    "\n",
    "col_to_keep = ['Zone 1', 'Zone 2', 'Zone 3', 'Zone 4', 'Zone 5', 'distance', 'moving_time', 'average_speed', 'id','start_date']\n",
    "\n",
    "df_intensity = df_intensity[col_to_keep]\n",
    "\n",
    "df_intensity['Zone 2'] = df_intensity['Zone 2'] * 2\n",
    "df_intensity['Zone 3'] = df_intensity['Zone 3'] * 2.5\n",
    "df_intensity['Zone 4'] = df_intensity['Zone 4'] * 4\n",
    "df_intensity['Zone 5'] = df_intensity['Zone 5'] * 5\n",
    "df_intensity['moving_time'] = df_intensity['Zone 1'] + df_intensity['Zone 2'] + df_intensity['Zone 3'] + df_intensity['Zone 4'] + df_intensity['Zone 5']\n",
    "df_intensity['start_date'] = pd.to_datetime(df_intensity['start_date'], format='%d/%m/%Y').dt.strftime('%Y/%m')\n",
    "df_intensity['distance ~ intensity'] = (df_intensity['moving_time']) * df_intensity['average_speed']\n",
    "df_intensity"
   ],
   "id": "eb2d20b53179065",
   "outputs": [],
   "execution_count": null
  },
  {
   "metadata": {
    "jupyter": {
     "is_executing": true
    }
   },
   "cell_type": "code",
   "source": [
    "grouped_by_date = df_intensity.groupby(df_intensity['start_date'])['distance ~ intensity'].sum().sort_values(ascending=True)\n",
    "grouped_sorted = grouped_by_date.sort_index()\n",
    "\n",
    "grouped_sorted.plot(kind='bar', figsize=(10, 6))\n",
    "plt.xlabel('Date')\n",
    "plt.ylabel('Somme de la distance ~ intensité')\n",
    "plt.title('Histogramme distance ~ intensité par date')\n",
    "plt.xticks(rotation=90)  \n",
    "plt.grid(axis='y')\n",
    "plt.show()"
   ],
   "id": "41d85183af9fba5d",
   "outputs": [],
   "execution_count": null
  }
 ],
 "metadata": {
  "kernelspec": {
   "display_name": "Python 3 (ipykernel)",
   "language": "python",
   "name": "python3"
  },
  "language_info": {
   "codemirror_mode": {
    "name": "ipython",
    "version": 3
   },
   "file_extension": ".py",
   "mimetype": "text/x-python",
   "name": "python",
   "nbconvert_exporter": "python",
   "pygments_lexer": "ipython3",
   "version": "3.11.4"
  }
 },
 "nbformat": 4,
 "nbformat_minor": 5
}
